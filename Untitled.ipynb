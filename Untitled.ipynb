{
 "cells": [
  {
   "cell_type": "code",
   "execution_count": 10,
   "metadata": {},
   "outputs": [],
   "source": [
    "import numpy as np\n",
    "import argparse, os, re, functools\n",
    "from stemmer import stemDoc\n",
    "\n",
    "#Naive Bayes Classifier\n",
    "def initBag(ham):\n",
    "    d = {}\n",
    "    with open(ham,'r') as openFile:\n",
    "        for line in openFile:\n",
    "            for word in line.split():\n",
    "                if not word in d:\n",
    "                    d[word] = 1\n",
    "                else:\n",
    "                    d[word] += 1\n",
    "    return d\n",
    "\n",
    "def chooseClass():\n",
    "    pass\n",
    "\n",
    "def calcCondProb(prior, probList):\n",
    "    logList = map((lambda x: np.log(x)), probList)\n",
    "    prodRes = functools.reduce((lambda x,y: x + y), logList)\n",
    "    return prodRes*prior\n",
    "\n",
    "def genProbFromEmail(emailFile, hamBag, spamBag, HorS=\"HAM\"):\n",
    "    #from email, take each word, calculate prob, add to list\n",
    "    percList = []\n",
    "    with open(emailFile, 'r') as openFile:\n",
    "        for line in openFile:\n",
    "            for word in line.split():\n",
    "                #calc probability from word\n",
    "                print(word, end=\": \")\n",
    "                hInst=hamBag.get(word, 0)\n",
    "                sInst=spamBag.get(word, 0)\n",
    "                if hInst == 0 or sInst == 0:\n",
    "                    percList.append(0)\n",
    "                    print('0')\n",
    "                else: \n",
    "                    frac = (hInst/(hInst+sInst)) if HorS == \"HAM\" else (sInst/(hInst+sInst))\n",
    "                    percList.append(frac)\n",
    "                    print(frac)\n",
    "    return percList"
   ]
  },
  {
   "cell_type": "code",
   "execution_count": 13,
   "metadata": {},
   "outputs": [
    {
     "name": "stdout",
     "output_type": "stream",
     "text": [
      "Spam log liklyhood for each word in email:\n",
      "subject: 0.8062678062678063\n",
      "calpin: 0\n",
      "daili: 0.9230769230769231\n",
      "ga: 0\n",
      "nomin: 0\n",
      "calpin: 0\n",
      "daili: 0.9230769230769231\n",
      "ga: 0\n",
      "nomin: 0\n",
      "1: 0.7892376681614349\n",
      "doc: 0\n",
      "\n",
      "Ham log liklyhood for each word in email:\n",
      "subject: 0.19373219373219372\n",
      "calpin: 0\n",
      "daili: 0.07692307692307693\n",
      "ga: 0\n",
      "nomin: 0\n",
      "calpin: 0\n",
      "daili: 0.07692307692307693\n",
      "ga: 0\n",
      "nomin: 0\n",
      "1: 0.21076233183856502\n",
      "doc: 0\n"
     ]
    }
   ],
   "source": [
    "#main function\n",
    "ham = \"stemmedFiles/train-ham-stemmed.txt\"\n",
    "spam = \"stemmedFiles/train-spam-stemmed.txt\"\n",
    "hamDir = \"train/ham/\"\n",
    "spamDir = \"train/spam/\"\n",
    "\n",
    "hamBag = initBag(ham)\n",
    "spamBag = initBag(spam)\n",
    "hamCount = len(os.listdir(hamDir))    \n",
    "spamCount = len(os.listdir(spamDir))    \n",
    "prior_ham = hamCount / (hamCount+spamCount)\n",
    "prior_spam = spamCount / (hamCount+spamCount)\n",
    "\n",
    "print(\"Spam log liklyhood for each word in email:\")\n",
    "l = genProbFromEmail(\"minitest_ham_stemmed.txt\",hamBag,spamBag,\"HAM\");\n",
    "print(\"\\nHam log liklyhood for each word in email:\")\n",
    "l2 = genProbFromEmail(\"minitest_ham_stemmed.txt\",hamBag,spamBag,\"SPAM\");\n",
    "#print(calcCondProb(1,[.5,.5,.5]))\n",
    "#print(np.exp(calcCondProb(1,[.5,.5,.5])))"
   ]
  }
 ],
 "metadata": {
  "kernelspec": {
   "display_name": "Python 3",
   "language": "python",
   "name": "python3"
  },
  "language_info": {
   "codemirror_mode": {
    "name": "ipython",
    "version": 3
   },
   "file_extension": ".py",
   "mimetype": "text/x-python",
   "name": "python",
   "nbconvert_exporter": "python",
   "pygments_lexer": "ipython3",
   "version": "3.5.2"
  }
 },
 "nbformat": 4,
 "nbformat_minor": 2
}
